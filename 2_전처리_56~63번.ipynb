{
  "nbformat": 4,
  "nbformat_minor": 0,
  "metadata": {
    "colab": {
      "provenance": [],
      "authorship_tag": "ABX9TyNnjcAi95XGD2yCPAUCGODr",
      "include_colab_link": true
    },
    "kernelspec": {
      "name": "python3",
      "display_name": "Python 3"
    },
    "language_info": {
      "name": "python"
    }
  },
  "cells": [
    {
      "cell_type": "markdown",
      "metadata": {
        "id": "view-in-github",
        "colab_type": "text"
      },
      "source": [
        "<a href=\"https://colab.research.google.com/github/cowsilver57/certification_study/blob/main/2_%EC%A0%84%EC%B2%98%EB%A6%AC_56~63%EB%B2%88.ipynb\" target=\"_parent\"><img src=\"https://colab.research.google.com/assets/colab-badge.svg\" alt=\"Open In Colab\"/></a>"
      ]
    },
    {
      "cell_type": "code",
      "source": [
        "import pandas as pd\n",
        "data = pd.read_csv('https://raw.githubusercontent.com/Datamanim/pandas/main/BankChurnersUp.csv')"
      ],
      "metadata": {
        "id": "_l2t4ZTKorwC"
      },
      "execution_count": null,
      "outputs": []
    },
    {
      "cell_type": "markdown",
      "source": [
        "# 56번\n",
        "데이터를 로드하고 데이터 행과 열의 갯수를 출력하라"
      ],
      "metadata": {
        "id": "x40TS1zposH_"
      }
    },
    {
      "cell_type": "code",
      "source": [
        "print(data.head())\n",
        "print(data.info())\n",
        "print(data.shape)"
      ],
      "metadata": {
        "colab": {
          "base_uri": "https://localhost:8080/"
        },
        "id": "RIsGXz5Yoz_L",
        "outputId": "2a28db24-2570-4175-c10a-0bae106287bf"
      },
      "execution_count": null,
      "outputs": [
        {
          "output_type": "stream",
          "name": "stdout",
          "text": [
            "   Unnamed: 0  CLIENTNUM     Attrition_Flag  Customer_Age Gender  \\\n",
            "0           0  768805383  Existing Customer            45      M   \n",
            "1           1  818770008  Existing Customer            49      F   \n",
            "2           2  713982108  Existing Customer            51      M   \n",
            "3           3  769911858  Existing Customer            40      F   \n",
            "4           4  709106358  Existing Customer            40      M   \n",
            "\n",
            "   Dependent_count Education_Level Marital_Status Income_Category  \\\n",
            "0                3     High School        Married     $60K - $80K   \n",
            "1                5        Graduate         Single  Less than $40K   \n",
            "2                3        Graduate        Married    $80K - $120K   \n",
            "3                4     High School        Unknown  Less than $40K   \n",
            "4                3      Uneducated        Married     $60K - $80K   \n",
            "\n",
            "  Card_Category  Months_on_book  Total_Relationship_Count  \\\n",
            "0          Blue              39                         5   \n",
            "1          Blue              44                         6   \n",
            "2          Blue              36                         4   \n",
            "3          Blue              34                         3   \n",
            "4          Blue              21                         5   \n",
            "\n",
            "   Months_Inactive_12_mon  Contacts_Count_12_mon  Credit_Limit  \\\n",
            "0                       1                      3       12691.0   \n",
            "1                       1                      2        8256.0   \n",
            "2                       1                      0        3418.0   \n",
            "3                       4                      1        3313.0   \n",
            "4                       1                      0        4716.0   \n",
            "\n",
            "   Total_Revolving_Bal  Avg_Open_To_Buy  Total_Amt_Chng_Q4_Q1  Total_Trans_Amt  \n",
            "0                  777          11914.0                 1.335             1144  \n",
            "1                  864           7392.0                 1.541             1291  \n",
            "2                    0           3418.0                 2.594             1887  \n",
            "3                 2517            796.0                 1.405             1171  \n",
            "4                    0           4716.0                 2.175              816  \n",
            "<class 'pandas.core.frame.DataFrame'>\n",
            "RangeIndex: 10127 entries, 0 to 10126\n",
            "Data columns (total 19 columns):\n",
            " #   Column                    Non-Null Count  Dtype  \n",
            "---  ------                    --------------  -----  \n",
            " 0   Unnamed: 0                10127 non-null  int64  \n",
            " 1   CLIENTNUM                 10127 non-null  int64  \n",
            " 2   Attrition_Flag            10127 non-null  object \n",
            " 3   Customer_Age              10127 non-null  int64  \n",
            " 4   Gender                    10127 non-null  object \n",
            " 5   Dependent_count           10127 non-null  int64  \n",
            " 6   Education_Level           10127 non-null  object \n",
            " 7   Marital_Status            10127 non-null  object \n",
            " 8   Income_Category           10127 non-null  object \n",
            " 9   Card_Category             10127 non-null  object \n",
            " 10  Months_on_book            10127 non-null  int64  \n",
            " 11  Total_Relationship_Count  10127 non-null  int64  \n",
            " 12  Months_Inactive_12_mon    10127 non-null  int64  \n",
            " 13  Contacts_Count_12_mon     10127 non-null  int64  \n",
            " 14  Credit_Limit              10127 non-null  float64\n",
            " 15  Total_Revolving_Bal       10127 non-null  int64  \n",
            " 16  Avg_Open_To_Buy           10127 non-null  float64\n",
            " 17  Total_Amt_Chng_Q4_Q1      10127 non-null  float64\n",
            " 18  Total_Trans_Amt           10127 non-null  int64  \n",
            "dtypes: float64(3), int64(10), object(6)\n",
            "memory usage: 1.5+ MB\n",
            "None\n",
            "(10127, 19)\n"
          ]
        }
      ]
    },
    {
      "cell_type": "markdown",
      "source": [
        "# 57번\n",
        "Income_Category의 카테고리를 map 함수를 이용하여 다음과 같이 변경하여 newIncome 컬럼에 매핑하라 Unknown : N\n",
        "Less than $40K : a\n",
        "$40K - $60K : b\n",
        "$60K - $80K : c\n",
        "$80K - $120K : d\n",
        "$120K +’ : e"
      ],
      "metadata": {
        "id": "XXLCxrbKo2Pb"
      }
    },
    {
      "cell_type": "code",
      "execution_count": null,
      "metadata": {
        "colab": {
          "base_uri": "https://localhost:8080/"
        },
        "id": "q9DnIxHVofxr",
        "outputId": "e0318241-5135-4218-f5ec-35fe055f7c9d"
      },
      "outputs": [
        {
          "output_type": "execute_result",
          "data": {
            "text/plain": [
              "0    c\n",
              "1    a\n",
              "2    d\n",
              "3    a\n",
              "4    c\n",
              "Name: newIncome, dtype: object"
            ]
          },
          "metadata": {},
          "execution_count": 3
        }
      ],
      "source": [
        "data['newIncome'] = data['Income_Category'].map({'Unknown':'N',\n",
        "                                                 'Less than $40K':'a',\n",
        "                                                 '$40K - $60K':'b',\n",
        "                                                 '$60K - $80K':'c',\n",
        "                                                 '$80K - $120K':'d',\n",
        "                                                 '$120K +': 'e'})\n",
        "data['newIncome'].head()"
      ]
    },
    {
      "cell_type": "markdown",
      "source": [
        "#58번\n",
        "Income_Category의 카테고리를 apply 함수를 이용하여 다음과 같이 변경하여 newIncome 컬럼에 매핑하라 Unknown : N\n",
        "Less than $40K : a\n",
        "$40K - $60K : b\n",
        "$60K - $80K : c\n",
        "$80K - $120K : d\n",
        "$120K +’ : e"
      ],
      "metadata": {
        "id": "CBlQaEkoRjkP"
      }
    },
    {
      "cell_type": "code",
      "source": [
        "#매핑 함수 정의\n",
        "def map_income_category(category):\n",
        "    if category == 'Unknown':\n",
        "        return 'N'\n",
        "    elif category == 'Less than $40K':\n",
        "        return 'a'\n",
        "    elif category == '$40K - $60K':\n",
        "        return 'b'\n",
        "    elif category == '$60K - $80K':\n",
        "        return 'c'\n",
        "    elif category == '$80K - $120K':\n",
        "        return 'd'\n",
        "    elif category == '$120K +':\n",
        "        return 'e'\n",
        "    else:\n",
        "        return category\n",
        "\n",
        "data['newIncome'] = data['Income_Category'].apply(map_income_category)\n",
        "data['newIncome'].head()"
      ],
      "metadata": {
        "colab": {
          "base_uri": "https://localhost:8080/"
        },
        "id": "ZogDvGngRlVr",
        "outputId": "5cd6cae6-03fe-4691-df2b-c823e5548b84"
      },
      "execution_count": null,
      "outputs": [
        {
          "output_type": "execute_result",
          "data": {
            "text/plain": [
              "0    c\n",
              "1    a\n",
              "2    d\n",
              "3    a\n",
              "4    c\n",
              "Name: newIncome, dtype: object"
            ]
          },
          "metadata": {},
          "execution_count": 4
        }
      ]
    },
    {
      "cell_type": "markdown",
      "source": [
        "# 59번\n",
        "\n",
        "\n",
        "*   Customer_Age의 값을 이용하여 나이 구간을 AgeState 컬럼으로 정의하라.\n",
        "* ( 0 ~ 9 : 10 , 10 ~ 19 : 10 , 20 ~ 29 : 20)\n",
        "*   각 구간의 빈도수를 출력하라\n",
        "\n",
        "\n",
        "\n"
      ],
      "metadata": {
        "id": "87lZHURZSHxT"
      }
    },
    {
      "cell_type": "code",
      "source": [
        "def age_state(age):\n",
        "    if age < 10 :\n",
        "        return 0\n",
        "    elif age < 20:\n",
        "        return 10\n",
        "    elif age < 30:\n",
        "        return 20\n",
        "    elif age < 40:\n",
        "        return 30\n",
        "    elif age < 50:\n",
        "        return 40\n",
        "    elif age < 60:\n",
        "        return 50\n",
        "    elif age < 70:\n",
        "        return 60\n",
        "    elif age < 80:\n",
        "        return 70\n",
        "    else:\n",
        "        return 'Unknown'\n",
        "\n",
        "data['AgeState'] = data['Customer_Age'].apply(age_state)\n",
        "data['AgeState'].head()"
      ],
      "metadata": {
        "colab": {
          "base_uri": "https://localhost:8080/"
        },
        "id": "YR-icdZ3SMBD",
        "outputId": "2d922758-20ac-4282-d4ae-07ea3a9695ab"
      },
      "execution_count": null,
      "outputs": [
        {
          "output_type": "execute_result",
          "data": {
            "text/plain": [
              "0    40\n",
              "1    40\n",
              "2    50\n",
              "3    40\n",
              "4    40\n",
              "Name: AgeState, dtype: int64"
            ]
          },
          "metadata": {},
          "execution_count": 5
        }
      ]
    },
    {
      "cell_type": "code",
      "source": [
        "data['AgeState'].value_counts().sort_index()"
      ],
      "metadata": {
        "colab": {
          "base_uri": "https://localhost:8080/"
        },
        "id": "12IFOIo0Sorl",
        "outputId": "66b12f58-7a41-4a50-83e9-a09716663334"
      },
      "execution_count": null,
      "outputs": [
        {
          "output_type": "execute_result",
          "data": {
            "text/plain": [
              "20     195\n",
              "30    1841\n",
              "40    4561\n",
              "50    2998\n",
              "60     530\n",
              "70       2\n",
              "Name: AgeState, dtype: int64"
            ]
          },
          "metadata": {},
          "execution_count": 6
        }
      ]
    },
    {
      "cell_type": "markdown",
      "source": [
        "# 60번\n",
        "Education_Level의 값중 Graduate단어가 포함되는 값은 1,그렇지 않은 경우에는 0으로 변경하여 newEduLevel 컬럼을 정의하고 빈도수를 출력하라"
      ],
      "metadata": {
        "id": "6655kZHSTpMm"
      }
    },
    {
      "cell_type": "code",
      "source": [
        "def education(edu_lv):\n",
        "    if 'Graduate' in edu_lv:\n",
        "        return 1\n",
        "    else:\n",
        "        return 0\n",
        "\n",
        "data['newEduLevel'] = data['Education_Level'].apply(education)\n",
        "ans = data['newEduLevel'].value_counts().sort_index()\n",
        "ans"
      ],
      "metadata": {
        "colab": {
          "base_uri": "https://localhost:8080/"
        },
        "id": "mzNtmoyHTssI",
        "outputId": "e1c6135f-79fe-4b8a-905f-14965ee85414"
      },
      "execution_count": null,
      "outputs": [
        {
          "output_type": "execute_result",
          "data": {
            "text/plain": [
              "0    6483\n",
              "1    3644\n",
              "Name: newEduLevel, dtype: int64"
            ]
          },
          "metadata": {},
          "execution_count": 7
        }
      ]
    },
    {
      "cell_type": "markdown",
      "source": [
        "# 61번\n",
        "Credit_Limit 컬럼값이 4500 이상인 경우 1 그외의 경우에는 모두 0으로 하는 newLimit 정의하라. newLimit 각 값들의 빈도수를 출력하라"
      ],
      "metadata": {
        "id": "DawEaj8mUNUV"
      }
    },
    {
      "cell_type": "code",
      "source": [
        "def credit(credit_lm):\n",
        "    if credit_lm >= 4500:\n",
        "        return 1\n",
        "    else:\n",
        "        return 0\n",
        "\n",
        "data['newLimit'] = data['Credit_Limit'].apply(credit)\n",
        "ans = data['newLimit'].value_counts()\n",
        "ans"
      ],
      "metadata": {
        "colab": {
          "base_uri": "https://localhost:8080/"
        },
        "id": "-TUbOC3DUPIF",
        "outputId": "7c2a8bb5-d148-446e-d4d7-e29538fece88"
      },
      "execution_count": null,
      "outputs": [
        {
          "output_type": "execute_result",
          "data": {
            "text/plain": [
              "1    5096\n",
              "0    5031\n",
              "Name: newLimit, dtype: int64"
            ]
          },
          "metadata": {},
          "execution_count": 8
        }
      ]
    },
    {
      "cell_type": "code",
      "source": [
        "data['Marital_Status'].unique()"
      ],
      "metadata": {
        "colab": {
          "base_uri": "https://localhost:8080/"
        },
        "id": "GGjySiFdVckt",
        "outputId": "cf5490f0-c8c3-475a-c99d-ec4b0549de2f"
      },
      "execution_count": null,
      "outputs": [
        {
          "output_type": "execute_result",
          "data": {
            "text/plain": [
              "array(['Married', 'Single', 'Unknown', 'Divorced'], dtype=object)"
            ]
          },
          "metadata": {},
          "execution_count": 9
        }
      ]
    },
    {
      "cell_type": "markdown",
      "source": [
        "# 62번\n",
        "\n",
        "*   Marital_Status 컬럼값이 Married 이고, Card_Category 컬럼의 값이 Platinum인 경우 1\n",
        "\n",
        "*    그외의 경우에는 모두 0으로 하는 newState컬럼을 정의하라.\n",
        "\n",
        "*    newState의 각 값들의 빈도수를 출력하라"
      ],
      "metadata": {
        "id": "2eSJHeMcUgnM"
      }
    },
    {
      "cell_type": "code",
      "source": [
        "def marital_card(x):\n",
        "    if x.Marital_Status == 'Married' and x.Card_Category == 'Platinum':\n",
        "        return 1\n",
        "    else:\n",
        "        return 0\n",
        "\n",
        "data['newState'] = data.apply(marital_card, axis=1)\n",
        "ans = data['newState'].value_counts()\n",
        "ans"
      ],
      "metadata": {
        "colab": {
          "base_uri": "https://localhost:8080/"
        },
        "id": "nuoKN4JWUhTm",
        "outputId": "8a343357-73bc-47f0-bf64-2c69b3553c15"
      },
      "execution_count": null,
      "outputs": [
        {
          "output_type": "execute_result",
          "data": {
            "text/plain": [
              "0    10120\n",
              "1        7\n",
              "Name: newState, dtype: int64"
            ]
          },
          "metadata": {},
          "execution_count": 10
        }
      ]
    },
    {
      "cell_type": "markdown",
      "source": [
        "# 63번\n",
        "\n",
        "\n",
        "*   Gender 컬럼값 M인 경우 male F인 경우 female로 값을 변경하여 Gender 컬럼에 새롭게 정의하라.\n",
        "*   각 value의 빈도를 출력하라\n",
        "\n"
      ],
      "metadata": {
        "id": "nLDmSZj6V4LV"
      }
    },
    {
      "cell_type": "code",
      "source": [
        "def gender_check(gender):\n",
        "    if gender == 'M':\n",
        "        return 'male'\n",
        "    else:\n",
        "        return 'female'\n",
        "\n",
        "data['Gender'] = data['Gender'].apply(gender_check)\n",
        "ans = data['Gender'].value_counts()\n",
        "ans"
      ],
      "metadata": {
        "colab": {
          "base_uri": "https://localhost:8080/"
        },
        "id": "7Q_3SgukV9Kq",
        "outputId": "7944ad21-762b-49f6-de5e-4883a5042e15"
      },
      "execution_count": null,
      "outputs": [
        {
          "output_type": "execute_result",
          "data": {
            "text/plain": [
              "female    5358\n",
              "male      4769\n",
              "Name: Gender, dtype: int64"
            ]
          },
          "metadata": {},
          "execution_count": 12
        }
      ]
    }
  ]
}